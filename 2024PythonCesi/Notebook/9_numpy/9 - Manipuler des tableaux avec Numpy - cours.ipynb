{
 "cells": [
  {
   "cell_type": "markdown",
   "metadata": {},
   "source": [
    "Jusqu'ici nous avons manipulé des données avec des listes ou des dictionnaires"
   ]
  },
  {
   "cell_type": "code",
   "execution_count": 1,
   "metadata": {},
   "outputs": [
    {
     "name": "stdout",
     "output_type": "stream",
     "text": [
      "{'France': 70, 'Angleterre': 55, 'Allemagne': 85}\n"
     ]
    }
   ],
   "source": [
    "countryDict = {'France':70,'Angleterre':55,'Allemagne':85}\n",
    "print(countryDict)"
   ]
  },
  {
   "cell_type": "code",
   "execution_count": 2,
   "metadata": {},
   "outputs": [
    {
     "name": "stdout",
     "output_type": "stream",
     "text": [
      "[['France', 70], ['Angleterre', 55], ['Allemagne', 85]]\n"
     ]
    }
   ],
   "source": [
    "countryList = [['France',70],['Angleterre',55],['Allemagne',85]]\n",
    "print(countryList)"
   ]
  },
  {
   "cell_type": "markdown",
   "metadata": {},
   "source": [
    "Pas adapté pour stoker des données pour une même dimension (pour un pays avoir la pop, le PIB, l'IDH))"
   ]
  },
  {
   "cell_type": "markdown",
   "metadata": {},
   "source": [
    "<b> Créer un tableau </b>"
   ]
  },
  {
   "cell_type": "code",
   "execution_count": 3,
   "metadata": {},
   "outputs": [
    {
     "name": "stdout",
     "output_type": "stream",
     "text": [
      "[['France' 'Angleterre' 'Allemagne']\n",
      " ['70' '55' '85']\n",
      " ['0.901' '0.922' '0.936']\n",
      " ['2091' '2077' '3045']]\n"
     ]
    }
   ],
   "source": [
    "import numpy as np\n",
    "pays = np.array([\n",
    "    ['France', 'Angleterre', 'Allemagne'], #Nom pays\n",
    "    [70, 55, 85],                          #Population en millions\n",
    "    [0.901, 0.922, 0.936],                 #IDH indice de developpement humain\n",
    "    [2091,2077,3045]                       #PIB\n",
    "])\n",
    "print(pays)"
   ]
  },
  {
   "cell_type": "markdown",
   "metadata": {},
   "source": [
    "<b>Sélectionner des valeurs dans un tableau (slicing)</b>"
   ]
  },
  {
   "cell_type": "code",
   "execution_count": 7,
   "metadata": {},
   "outputs": [
    {
     "data": {
      "text/plain": [
       "array(['0.901', '0.922', '0.936'], dtype='<U32')"
      ]
     },
     "execution_count": 7,
     "metadata": {},
     "output_type": "execute_result"
    }
   ],
   "source": [
    "pays[1]\n",
    "pays[2]"
   ]
  },
  {
   "cell_type": "code",
   "execution_count": 8,
   "metadata": {},
   "outputs": [
    {
     "data": {
      "text/plain": [
       "'55'"
      ]
     },
     "execution_count": 8,
     "metadata": {},
     "output_type": "execute_result"
    }
   ],
   "source": [
    "pays[1,1]"
   ]
  },
  {
   "cell_type": "code",
   "execution_count": 6,
   "metadata": {},
   "outputs": [
    {
     "data": {
      "text/plain": [
       "array(['Angleterre', '55', '0.922', '2077'], dtype='<U32')"
      ]
     },
     "execution_count": 6,
     "metadata": {},
     "output_type": "execute_result"
    }
   ],
   "source": [
    "pays[:,1]"
   ]
  },
  {
   "cell_type": "code",
   "execution_count": 9,
   "metadata": {},
   "outputs": [
    {
     "data": {
      "text/plain": [
       "array([['70', '55', '85'],\n",
       "       ['0.901', '0.922', '0.936']], dtype='<U32')"
      ]
     },
     "execution_count": 9,
     "metadata": {},
     "output_type": "execute_result"
    }
   ],
   "source": [
    "pays[1:3,:]"
   ]
  },
  {
   "cell_type": "code",
   "execution_count": 10,
   "metadata": {},
   "outputs": [
    {
     "data": {
      "text/plain": [
       "array([['Angleterre', 'Allemagne'],\n",
       "       ['55', '85'],\n",
       "       ['0.922', '0.936'],\n",
       "       ['2077', '3045']], dtype='<U32')"
      ]
     },
     "execution_count": 10,
     "metadata": {},
     "output_type": "execute_result"
    }
   ],
   "source": [
    "pays[:,1:3]"
   ]
  },
  {
   "cell_type": "markdown",
   "metadata": {},
   "source": [
    "<b>Faire des opérations dans un tableau</b>"
   ]
  },
  {
   "cell_type": "code",
   "execution_count": 11,
   "metadata": {},
   "outputs": [
    {
     "name": "stdout",
     "output_type": "stream",
     "text": [
      "[['70' '55' '85']\n",
      " ['0.901' '0.922' '0.936']\n",
      " ['2091' '2077' '3045']]\n"
     ]
    }
   ],
   "source": [
    "dataPays = pays[1:,:]\n",
    "print(dataPays)\n",
    "#dataPays[1,1] - 1  # ne fonctionne pas car data de type string\n"
   ]
  },
  {
   "cell_type": "code",
   "execution_count": 12,
   "metadata": {},
   "outputs": [
    {
     "data": {
      "text/plain": [
       "array([[7.000e+01, 5.500e+01, 8.500e+01],\n",
       "       [9.010e-01, 9.220e-01, 9.360e-01],\n",
       "       [2.091e+03, 2.077e+03, 3.045e+03]])"
      ]
     },
     "execution_count": 12,
     "metadata": {},
     "output_type": "execute_result"
    }
   ],
   "source": [
    "dataPays = dataPays.astype(float)\n",
    "dataPays"
   ]
  },
  {
   "cell_type": "code",
   "execution_count": 13,
   "metadata": {},
   "outputs": [
    {
     "data": {
      "text/plain": [
       "array([[  70.   ,   55.   ,   85.   ],\n",
       "       [   0.901,    0.922,    0.936],\n",
       "       [2091.   , 2077.   , 3045.   ]])"
      ]
     },
     "execution_count": 13,
     "metadata": {},
     "output_type": "execute_result"
    }
   ],
   "source": [
    "np.set_printoptions(suppress=True)\n",
    "dataPays"
   ]
  },
  {
   "cell_type": "code",
   "execution_count": null,
   "metadata": {},
   "outputs": [],
   "source": [
    "print(dataPays[1,1] - 1) # fonctionne maintenant\n",
    "dataPays*2"
   ]
  },
  {
   "cell_type": "code",
   "execution_count": 14,
   "metadata": {},
   "outputs": [
    {
     "data": {
      "text/plain": [
       "array([4416, 4178, 6545])"
      ]
     },
     "execution_count": 14,
     "metadata": {},
     "output_type": "execute_result"
    }
   ],
   "source": [
    "pib2018 = np.array([2091,2077,3045])\n",
    "pib2019 = np.array([2325,2101,3500])\n",
    "pib20182019 = pib2018 + pib2019\n",
    "pib20182019"
   ]
  },
  {
   "cell_type": "markdown",
   "metadata": {},
   "source": [
    "<b>Analyser un tableau</b>"
   ]
  },
  {
   "cell_type": "code",
   "execution_count": 17,
   "metadata": {},
   "outputs": [
    {
     "name": "stdout",
     "output_type": "stream",
     "text": [
      "[[  70.      55.      85.   ]\n",
      " [   0.901    0.922    0.936]\n",
      " [2091.    2077.    3045.   ]]\n",
      "dataPays.sum()\n",
      "7425.759\n",
      "dataPays[2,:].sum()\n",
      "7213.0\n"
     ]
    }
   ],
   "source": [
    "print(dataPays)\n",
    "print (\"dataPays.sum()\")\n",
    "print (dataPays.sum() )\n",
    "print (\"dataPays[2,:].sum()\")\n",
    "print( dataPays[2,:].sum()) #Sommes des PIB"
   ]
  },
  {
   "cell_type": "code",
   "execution_count": 21,
   "metadata": {},
   "outputs": [
    {
     "name": "stdout",
     "output_type": "stream",
     "text": [
      "2077.0\n",
      "3045.0\n",
      "2404.3333333333335\n"
     ]
    }
   ],
   "source": [
    "print(dataPays[2,:].min())\n",
    "print(dataPays[2,:].max())\n",
    "print(dataPays[2,:].mean()) #moyenne"
   ]
  },
  {
   "cell_type": "code",
   "execution_count": null,
   "metadata": {},
   "outputs": [],
   "source": [
    "bestPibIndex = dataPays[2,:].argmax()\n",
    "worstPibIndex = dataPays[2,:].argmin()\n",
    "print(bestPibIndex,worstPibIndex)"
   ]
  },
  {
   "cell_type": "code",
   "execution_count": null,
   "metadata": {},
   "outputs": [],
   "source": [
    "print('le pays le plus riche : '+pays[0,bestPibIndex])\n",
    "print('le pays le moins riche : '+pays[0,worstPibIndex])"
   ]
  },
  {
   "cell_type": "code",
   "execution_count": null,
   "metadata": {},
   "outputs": [],
   "source": [
    "tab1 = np.array([1,2,3,4])\n",
    "tab2 = np.array([1,7,3,4])\n",
    "np.equal(tab1, tab2)"
   ]
  },
  {
   "cell_type": "markdown",
   "metadata": {},
   "source": [
    "<b> Manipuler un tableau </b>"
   ]
  },
  {
   "cell_type": "code",
   "execution_count": null,
   "metadata": {},
   "outputs": [],
   "source": [
    "dataPays[1,1] = 0\n",
    "dataPays"
   ]
  },
  {
   "cell_type": "code",
   "execution_count": 20,
   "metadata": {},
   "outputs": [
    {
     "data": {
      "text/plain": [
       "array([2091, 2077, 3045, 2325, 2101, 3500])"
      ]
     },
     "execution_count": 20,
     "metadata": {},
     "output_type": "execute_result"
    }
   ],
   "source": [
    "np.concatenate((pib2018, pib2019), axis=0)"
   ]
  },
  {
   "cell_type": "code",
   "execution_count": null,
   "metadata": {},
   "outputs": [],
   "source": [
    "dataPays = np.array([\n",
    "    [1, np.nan, 3],\n",
    "    [1, 2, 3],\n",
    "    [1, 2, 3]\n",
    "])\n",
    "print(dataPays)"
   ]
  },
  {
   "cell_type": "code",
   "execution_count": null,
   "metadata": {},
   "outputs": [],
   "source": [
    "dataPays*2"
   ]
  },
  {
   "cell_type": "code",
   "execution_count": null,
   "metadata": {},
   "outputs": [],
   "source": [
    "np.nan_to_num(dataPays)"
   ]
  },
  {
   "cell_type": "code",
   "execution_count": null,
   "metadata": {},
   "outputs": [],
   "source": [
    "Pays1 = np.array([\n",
    "    [1, 2],\n",
    "    [3, 4],\n",
    "])\n",
    "Pays2 = np.array([\n",
    "    [5, 6],\n",
    "    [7, 8],\n",
    "])\n",
    "\n",
    "print(Pays1*Pays2)\n",
    "print(Pays1+Pays2)\n",
    "\n",
    "#numpy peut également être utilisé pour du calcul matriciel (numpy.dot, array.T)"
   ]
  },
  {
   "cell_type": "markdown",
   "metadata": {},
   "source": [
    "<b>Le module arrange<b>"
   ]
  },
  {
   "cell_type": "code",
   "execution_count": null,
   "metadata": {},
   "outputs": [],
   "source": [
    "np.arange(1, 100, 2)"
   ]
  },
  {
   "cell_type": "code",
   "execution_count": null,
   "metadata": {},
   "outputs": [],
   "source": [
    "np.arange(0, 1, 0.1)"
   ]
  },
  {
   "cell_type": "code",
   "execution_count": null,
   "metadata": {},
   "outputs": [],
   "source": [
    "np.linspace(0, 100, 11)"
   ]
  }
 ],
 "metadata": {
  "kernelspec": {
   "display_name": "base",
   "language": "python",
   "name": "python3"
  },
  "language_info": {
   "codemirror_mode": {
    "name": "ipython",
    "version": 3
   },
   "file_extension": ".py",
   "mimetype": "text/x-python",
   "name": "python",
   "nbconvert_exporter": "python",
   "pygments_lexer": "ipython3",
   "version": "3.12.7"
  }
 },
 "nbformat": 4,
 "nbformat_minor": 2
}
