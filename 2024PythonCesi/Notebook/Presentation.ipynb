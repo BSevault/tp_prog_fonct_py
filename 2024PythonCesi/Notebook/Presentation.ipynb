{
 "cells": [
  {
   "cell_type": "markdown",
   "metadata": {},
   "source": [
    "<h1>Présentation du notebook </h1>\n",
    "<p> Chaque ligne est nommée une cellule<br>\n",
    "    Une cellule est de 2 principaux types :\n",
    "    <ul>\n",
    "        <li>Markdown : pour du texte avec la syntaxe html</li>\n",
    "        <li>Code : pour du code Python</li>\n",
    "    </ul>\n",
    "</p>\n",
    "<p> créer ci-dessous une cellule Markdown avec un mot en gras et une autre cellule recevant du code </p>    "
   ]
  },
  {
   "cell_type": "markdown",
   "metadata": {},
   "source": [
    "<br><br><br>\n",
    "<p>Une cellule est exécutée par Ctrl + Entrée </p>\n",
    "<p>Une cellule peut être exécutée plusieurs fois indépendemment de sa position. Le nombre dans la marge gauche donne une indication \n",
    "</p>"
   ]
  },
  {
   "cell_type": "code",
   "execution_count": null,
   "metadata": {},
   "outputs": [],
   "source": [
    "age=10\n",
    "age"
   ]
  },
  {
   "cell_type": "code",
   "execution_count": 7,
   "metadata": {},
   "outputs": [
    {
     "data": {
      "text/plain": [
       "20"
      ]
     },
     "execution_count": 7,
     "metadata": {},
     "output_type": "execute_result"
    }
   ],
   "source": [
    "age=20\n",
    "age"
   ]
  },
  {
   "cell_type": "code",
   "execution_count": 8,
   "metadata": {},
   "outputs": [
    {
     "name": "stdout",
     "output_type": "stream",
     "text": [
      "20\n",
      "Vous êtes majeur\n"
     ]
    }
   ],
   "source": [
    "print (age)\n",
    "if age < 18:\n",
    "    print (\"Vous êtes mineur\")\n",
    "else:\n",
    "    print (\"Vous êtes majeur\")"
   ]
  },
  {
   "cell_type": "markdown",
   "metadata": {},
   "source": [
    "<h2>Commandes magiques</h2>\n",
    "<p>La commande %whos liste variables, fonctions, modules utilisées dans le notebook</p>\n",
    "<p>%history  montre le code exécuté et dans quel ordre"
   ]
  },
  {
   "cell_type": "code",
   "execution_count": 10,
   "metadata": {},
   "outputs": [
    {
     "name": "stdout",
     "output_type": "stream",
     "text": [
      "Variable   Type    Data/Info\n",
      "----------------------------\n",
      "age        int     20\n",
      "age=10\n",
      "age\n",
      "age=10\n",
      "age\n",
      "age=20\n",
      "age\n",
      "print (age)\n",
      "if age < 18:\n",
      "    print (\"Vous êtes mineur\")\n",
      "else:\n",
      "    print (\"Vous êtes majeur\")\n",
      "age=10\n",
      "age\n",
      "age=10\n",
      "age\n",
      "age=20\n",
      "age\n",
      "print (age)\n",
      "if age < 18:\n",
      "    print (\"Vous êtes mineur\")\n",
      "else:\n",
      "    print (\"Vous êtes majeur\")\n",
      "%whos\n",
      "%history\n",
      "%whos\n",
      "%history\n"
     ]
    }
   ],
   "source": [
    "%whos\n",
    "%history"
   ]
  },
  {
   "cell_type": "markdown",
   "metadata": {},
   "source": [
    "<h2>Vidage d'un notebook </h2>\n",
    "<p>Pour vider les zones de codes exécutées, utiliser Kernet=>Restart & Clear Output \n",
    "</p>"
   ]
  },
  {
   "cell_type": "markdown",
   "metadata": {},
   "source": [
    "<h2>Liens web : </h2>\n",
    "<a href=\"https://www.kaggle.com/ \" >Site d'explication de Jupyter Notebook et nombreux lots de données</a>\n",
    "<a href=\"https://python.sdv.univ-paris-diderot.fr/18_jupyter/\">Explications du Notebook</a>"
   ]
  }
 ],
 "metadata": {
  "kernelspec": {
   "display_name": "base",
   "language": "python",
   "name": "python3"
  },
  "language_info": {
   "codemirror_mode": {
    "name": "ipython",
    "version": 3
   },
   "file_extension": ".py",
   "mimetype": "text/x-python",
   "name": "python",
   "nbconvert_exporter": "python",
   "pygments_lexer": "ipython3",
   "version": "3.12.7"
  }
 },
 "nbformat": 4,
 "nbformat_minor": 2
}
